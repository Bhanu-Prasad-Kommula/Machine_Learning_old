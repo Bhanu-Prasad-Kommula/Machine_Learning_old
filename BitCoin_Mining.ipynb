{
 "cells": [
  {
   "cell_type": "code",
   "execution_count": 6,
   "id": "b0c88bcd",
   "metadata": {},
   "outputs": [],
   "source": [
    "from hashlib import sha256\n",
    "MAX_NONCE = 100000000000\n",
    "import time"
   ]
  },
  {
   "cell_type": "code",
   "execution_count": 7,
   "id": "d86d2590",
   "metadata": {},
   "outputs": [],
   "source": [
    "def SHA256(text):\n",
    "    return sha256(text.encode(\"ascii\")).hexdigest()"
   ]
  },
  {
   "cell_type": "code",
   "execution_count": 3,
   "id": "5637ce90",
   "metadata": {},
   "outputs": [],
   "source": [
    "def SHA256(text):\n",
    "    return sha256(text.encode(\"ascii\")).hexdigest()\n",
    "\n",
    "def mine(block_number, transactions, previous_hash, prefix_zeros):\n",
    "    prefix_str = '0'*prefix_zeros\n",
    "    for nonce in range(MAX_NONCE):\n",
    "        text = str(block_number) + transactions + previous_hash + str(nonce)\n",
    "        new_hash = SHA256(text)\n",
    "        if new_hash.startswith(prefix_str):\n",
    "            print(f\"Successfully mined bitcoins with nonce value:{nonce}\")\n",
    "            return new_hash\n",
    "\n",
    "    raise BaseException(f\"Couldn't find correct has after trying {MAX_NONCE} times\")"
   ]
  },
  {
   "cell_type": "code",
   "execution_count": 4,
   "id": "61d88a41",
   "metadata": {},
   "outputs": [],
   "source": [
    "if __name__=='__main__':\n",
    "    transactions='''\n",
    "    Dhaval->Bhavin->20,\n",
    "    Mando->Cara->45\n",
    "    '''\n",
    "    difficulty=8 "
   ]
  },
  {
   "cell_type": "code",
   "execution_count": null,
   "id": "99e28bfd",
   "metadata": {},
   "outputs": [
    {
     "name": "stdout",
     "output_type": "stream",
     "text": [
      "started bitcoin mining\n"
     ]
    }
   ],
   "source": [
    "\n",
    "start = time.time()\n",
    "print(\"started bitcoin mining\")\n",
    "new_hash = mine(5,transactions,'0000000xa036944e29568d0cff17edbe038f81208fecf9a66be9a2b8321c6ec7', difficulty)\n",
    "total_time = str((time.time() - start))\n",
    "print(f\"bitcoin mining is done and total Mining time : {total_time} seconds\")\n",
    "print(new_hash)"
   ]
  },
  {
   "cell_type": "code",
   "execution_count": null,
   "id": "598b545b",
   "metadata": {},
   "outputs": [],
   "source": []
  }
 ],
 "metadata": {
  "kernelspec": {
   "display_name": "Python 3 (ipykernel)",
   "language": "python",
   "name": "python3"
  },
  "language_info": {
   "codemirror_mode": {
    "name": "ipython",
    "version": 3
   },
   "file_extension": ".py",
   "mimetype": "text/x-python",
   "name": "python",
   "nbconvert_exporter": "python",
   "pygments_lexer": "ipython3",
   "version": "3.9.7"
  }
 },
 "nbformat": 4,
 "nbformat_minor": 5
}
